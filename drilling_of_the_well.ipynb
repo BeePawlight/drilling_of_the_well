{
 "cells": [
  {
   "cell_type": "markdown",
   "id": "ca50304d",
   "metadata": {},
   "source": [
    "# Выбор локации для скважины"
   ]
  },
  {
   "cell_type": "markdown",
   "id": "ab24e3dc",
   "metadata": {},
   "source": [
    "Допустим, вы работаете в добывающей компании «ГлавРосГосНефть». Нужно решить, где бурить новую скважину.\n",
    "\n",
    "Вам предоставлены пробы нефти в трёх регионах: в каждом 10 000 месторождений, где измерили качество нефти и объём её запасов. Постройте модель машинного обучения, которая поможет определить регион, где добыча принесёт наибольшую прибыль. Проанализируйте возможную прибыль и риски техникой *Bootstrap.*\n",
    "\n",
    "Шаги для выбора локации:\n",
    "\n",
    "- В избранном регионе ищут месторождения, для каждого определяют значения признаков;\n",
    "- Строят модель и оценивают объём запасов;\n",
    "- Выбирают месторождения с самым высокими оценками значений. Количество месторождений зависит от бюджета компании и стоимости разработки одной скважины;\n",
    "- Прибыль равна суммарной прибыли отобранных месторождений."
   ]
  },
  {
   "cell_type": "markdown",
   "id": "8857bfb6",
   "metadata": {},
   "source": [
    "## Загрузка и подготовка данных"
   ]
  },
  {
   "cell_type": "code",
   "execution_count": 1,
   "id": "a7836f12",
   "metadata": {},
   "outputs": [],
   "source": [
    "import pandas as pd\n",
    "import seaborn as sns\n",
    "from matplotlib import pyplot as plt\n",
    "from sklearn.model_selection import train_test_split\n",
    "from sklearn.linear_model import LinearRegression\n",
    "from sklearn.metrics import mean_squared_error\n",
    "import numpy as np\n",
    "import scipy.stats as st"
   ]
  },
  {
   "cell_type": "code",
   "execution_count": 2,
   "id": "38dafac6",
   "metadata": {},
   "outputs": [],
   "source": [
    "data_0 = pd.read_csv('/geo_data_0.csv')\n",
    "data_1 = pd.read_csv('/geo_data_1.csv')\n",
    "data_2 = pd.read_csv('/geo_data_2.csv')"
   ]
  },
  {
   "cell_type": "markdown",
   "id": "0d25ecfa",
   "metadata": {},
   "source": [
    "**Изучим данные 1-го региона**"
   ]
  },
  {
   "cell_type": "code",
   "execution_count": 3,
   "id": "8e11b4eb",
   "metadata": {},
   "outputs": [
    {
     "data": {
      "text/html": [
       "<div>\n",
       "<style scoped>\n",
       "    .dataframe tbody tr th:only-of-type {\n",
       "        vertical-align: middle;\n",
       "    }\n",
       "\n",
       "    .dataframe tbody tr th {\n",
       "        vertical-align: top;\n",
       "    }\n",
       "\n",
       "    .dataframe thead th {\n",
       "        text-align: right;\n",
       "    }\n",
       "</style>\n",
       "<table border=\"1\" class=\"dataframe\">\n",
       "  <thead>\n",
       "    <tr style=\"text-align: right;\">\n",
       "      <th></th>\n",
       "      <th>id</th>\n",
       "      <th>f0</th>\n",
       "      <th>f1</th>\n",
       "      <th>f2</th>\n",
       "      <th>product</th>\n",
       "    </tr>\n",
       "  </thead>\n",
       "  <tbody>\n",
       "    <tr>\n",
       "      <th>0</th>\n",
       "      <td>txEyH</td>\n",
       "      <td>0.705745</td>\n",
       "      <td>-0.497823</td>\n",
       "      <td>1.221170</td>\n",
       "      <td>105.280062</td>\n",
       "    </tr>\n",
       "    <tr>\n",
       "      <th>1</th>\n",
       "      <td>2acmU</td>\n",
       "      <td>1.334711</td>\n",
       "      <td>-0.340164</td>\n",
       "      <td>4.365080</td>\n",
       "      <td>73.037750</td>\n",
       "    </tr>\n",
       "    <tr>\n",
       "      <th>2</th>\n",
       "      <td>409Wp</td>\n",
       "      <td>1.022732</td>\n",
       "      <td>0.151990</td>\n",
       "      <td>1.419926</td>\n",
       "      <td>85.265647</td>\n",
       "    </tr>\n",
       "    <tr>\n",
       "      <th>3</th>\n",
       "      <td>iJLyR</td>\n",
       "      <td>-0.032172</td>\n",
       "      <td>0.139033</td>\n",
       "      <td>2.978566</td>\n",
       "      <td>168.620776</td>\n",
       "    </tr>\n",
       "    <tr>\n",
       "      <th>4</th>\n",
       "      <td>Xdl7t</td>\n",
       "      <td>1.988431</td>\n",
       "      <td>0.155413</td>\n",
       "      <td>4.751769</td>\n",
       "      <td>154.036647</td>\n",
       "    </tr>\n",
       "  </tbody>\n",
       "</table>\n",
       "</div>"
      ],
      "text/plain": [
       "      id        f0        f1        f2     product\n",
       "0  txEyH  0.705745 -0.497823  1.221170  105.280062\n",
       "1  2acmU  1.334711 -0.340164  4.365080   73.037750\n",
       "2  409Wp  1.022732  0.151990  1.419926   85.265647\n",
       "3  iJLyR -0.032172  0.139033  2.978566  168.620776\n",
       "4  Xdl7t  1.988431  0.155413  4.751769  154.036647"
      ]
     },
     "execution_count": 3,
     "metadata": {},
     "output_type": "execute_result"
    }
   ],
   "source": [
    "data_0.head()"
   ]
  },
  {
   "cell_type": "code",
   "execution_count": 4,
   "id": "e8d416fe",
   "metadata": {},
   "outputs": [
    {
     "name": "stdout",
     "output_type": "stream",
     "text": [
      "<class 'pandas.core.frame.DataFrame'>\n",
      "RangeIndex: 100000 entries, 0 to 99999\n",
      "Data columns (total 5 columns):\n",
      " #   Column   Non-Null Count   Dtype  \n",
      "---  ------   --------------   -----  \n",
      " 0   id       100000 non-null  object \n",
      " 1   f0       100000 non-null  float64\n",
      " 2   f1       100000 non-null  float64\n",
      " 3   f2       100000 non-null  float64\n",
      " 4   product  100000 non-null  float64\n",
      "dtypes: float64(4), object(1)\n",
      "memory usage: 3.8+ MB\n"
     ]
    }
   ],
   "source": [
    "data_0.info()"
   ]
  },
  {
   "cell_type": "code",
   "execution_count": 5,
   "id": "f8174b00",
   "metadata": {},
   "outputs": [
    {
     "data": {
      "text/plain": [
       "id         0\n",
       "f0         0\n",
       "f1         0\n",
       "f2         0\n",
       "product    0\n",
       "dtype: int64"
      ]
     },
     "execution_count": 5,
     "metadata": {},
     "output_type": "execute_result"
    }
   ],
   "source": [
    "data_0.isna().sum()"
   ]
  },
  {
   "cell_type": "code",
   "execution_count": 6,
   "id": "b17ed01d",
   "metadata": {},
   "outputs": [
    {
     "data": {
      "text/plain": [
       "0"
      ]
     },
     "execution_count": 6,
     "metadata": {},
     "output_type": "execute_result"
    }
   ],
   "source": [
    "data_0.duplicated().sum()"
   ]
  },
  {
   "cell_type": "code",
   "execution_count": 7,
   "id": "91948ef5",
   "metadata": {},
   "outputs": [
    {
     "data": {
      "text/plain": [
       "count    100000.000000\n",
       "mean         92.500000\n",
       "std          44.288691\n",
       "min           0.000000\n",
       "25%          56.497507\n",
       "50%          91.849972\n",
       "75%         128.564089\n",
       "max         185.364347\n",
       "Name: product, dtype: float64"
      ]
     },
     "execution_count": 7,
     "metadata": {},
     "output_type": "execute_result"
    }
   ],
   "source": [
    "data_0['product'].describe()"
   ]
  },
  {
   "cell_type": "markdown",
   "id": "24704b92",
   "metadata": {},
   "source": [
    "**Изучим данные 2-го региона**"
   ]
  },
  {
   "cell_type": "code",
   "execution_count": 8,
   "id": "b472eaaf",
   "metadata": {},
   "outputs": [
    {
     "data": {
      "text/html": [
       "<div>\n",
       "<style scoped>\n",
       "    .dataframe tbody tr th:only-of-type {\n",
       "        vertical-align: middle;\n",
       "    }\n",
       "\n",
       "    .dataframe tbody tr th {\n",
       "        vertical-align: top;\n",
       "    }\n",
       "\n",
       "    .dataframe thead th {\n",
       "        text-align: right;\n",
       "    }\n",
       "</style>\n",
       "<table border=\"1\" class=\"dataframe\">\n",
       "  <thead>\n",
       "    <tr style=\"text-align: right;\">\n",
       "      <th></th>\n",
       "      <th>id</th>\n",
       "      <th>f0</th>\n",
       "      <th>f1</th>\n",
       "      <th>f2</th>\n",
       "      <th>product</th>\n",
       "    </tr>\n",
       "  </thead>\n",
       "  <tbody>\n",
       "    <tr>\n",
       "      <th>0</th>\n",
       "      <td>kBEdx</td>\n",
       "      <td>-15.001348</td>\n",
       "      <td>-8.276000</td>\n",
       "      <td>-0.005876</td>\n",
       "      <td>3.179103</td>\n",
       "    </tr>\n",
       "    <tr>\n",
       "      <th>1</th>\n",
       "      <td>62mP7</td>\n",
       "      <td>14.272088</td>\n",
       "      <td>-3.475083</td>\n",
       "      <td>0.999183</td>\n",
       "      <td>26.953261</td>\n",
       "    </tr>\n",
       "    <tr>\n",
       "      <th>2</th>\n",
       "      <td>vyE1P</td>\n",
       "      <td>6.263187</td>\n",
       "      <td>-5.948386</td>\n",
       "      <td>5.001160</td>\n",
       "      <td>134.766305</td>\n",
       "    </tr>\n",
       "    <tr>\n",
       "      <th>3</th>\n",
       "      <td>KcrkZ</td>\n",
       "      <td>-13.081196</td>\n",
       "      <td>-11.506057</td>\n",
       "      <td>4.999415</td>\n",
       "      <td>137.945408</td>\n",
       "    </tr>\n",
       "    <tr>\n",
       "      <th>4</th>\n",
       "      <td>AHL4O</td>\n",
       "      <td>12.702195</td>\n",
       "      <td>-8.147433</td>\n",
       "      <td>5.004363</td>\n",
       "      <td>134.766305</td>\n",
       "    </tr>\n",
       "  </tbody>\n",
       "</table>\n",
       "</div>"
      ],
      "text/plain": [
       "      id         f0         f1        f2     product\n",
       "0  kBEdx -15.001348  -8.276000 -0.005876    3.179103\n",
       "1  62mP7  14.272088  -3.475083  0.999183   26.953261\n",
       "2  vyE1P   6.263187  -5.948386  5.001160  134.766305\n",
       "3  KcrkZ -13.081196 -11.506057  4.999415  137.945408\n",
       "4  AHL4O  12.702195  -8.147433  5.004363  134.766305"
      ]
     },
     "execution_count": 8,
     "metadata": {},
     "output_type": "execute_result"
    }
   ],
   "source": [
    "data_1.head()"
   ]
  },
  {
   "cell_type": "code",
   "execution_count": 9,
   "id": "8085f1bf",
   "metadata": {},
   "outputs": [
    {
     "name": "stdout",
     "output_type": "stream",
     "text": [
      "<class 'pandas.core.frame.DataFrame'>\n",
      "RangeIndex: 100000 entries, 0 to 99999\n",
      "Data columns (total 5 columns):\n",
      " #   Column   Non-Null Count   Dtype  \n",
      "---  ------   --------------   -----  \n",
      " 0   id       100000 non-null  object \n",
      " 1   f0       100000 non-null  float64\n",
      " 2   f1       100000 non-null  float64\n",
      " 3   f2       100000 non-null  float64\n",
      " 4   product  100000 non-null  float64\n",
      "dtypes: float64(4), object(1)\n",
      "memory usage: 3.8+ MB\n"
     ]
    }
   ],
   "source": [
    "data_1.info()"
   ]
  },
  {
   "cell_type": "code",
   "execution_count": 10,
   "id": "84cf7a31",
   "metadata": {},
   "outputs": [
    {
     "data": {
      "text/plain": [
       "id         0\n",
       "f0         0\n",
       "f1         0\n",
       "f2         0\n",
       "product    0\n",
       "dtype: int64"
      ]
     },
     "execution_count": 10,
     "metadata": {},
     "output_type": "execute_result"
    }
   ],
   "source": [
    "data_1.isna().sum()"
   ]
  },
  {
   "cell_type": "code",
   "execution_count": 11,
   "id": "cfdd3380",
   "metadata": {},
   "outputs": [
    {
     "data": {
      "text/plain": [
       "0"
      ]
     },
     "execution_count": 11,
     "metadata": {},
     "output_type": "execute_result"
    }
   ],
   "source": [
    "data_1.duplicated().sum()"
   ]
  },
  {
   "cell_type": "code",
   "execution_count": 12,
   "id": "6e84cbec",
   "metadata": {},
   "outputs": [
    {
     "data": {
      "text/plain": [
       "count    100000.000000\n",
       "mean         68.825000\n",
       "std          45.944423\n",
       "min           0.000000\n",
       "25%          26.953261\n",
       "50%          57.085625\n",
       "75%         107.813044\n",
       "max         137.945408\n",
       "Name: product, dtype: float64"
      ]
     },
     "execution_count": 12,
     "metadata": {},
     "output_type": "execute_result"
    }
   ],
   "source": [
    "data_1['product'].describe()"
   ]
  },
  {
   "cell_type": "markdown",
   "id": "fb5c6919",
   "metadata": {},
   "source": [
    "**Изучим данные 3-го региона**"
   ]
  },
  {
   "cell_type": "code",
   "execution_count": 13,
   "id": "6abe3916",
   "metadata": {},
   "outputs": [
    {
     "data": {
      "text/html": [
       "<div>\n",
       "<style scoped>\n",
       "    .dataframe tbody tr th:only-of-type {\n",
       "        vertical-align: middle;\n",
       "    }\n",
       "\n",
       "    .dataframe tbody tr th {\n",
       "        vertical-align: top;\n",
       "    }\n",
       "\n",
       "    .dataframe thead th {\n",
       "        text-align: right;\n",
       "    }\n",
       "</style>\n",
       "<table border=\"1\" class=\"dataframe\">\n",
       "  <thead>\n",
       "    <tr style=\"text-align: right;\">\n",
       "      <th></th>\n",
       "      <th>id</th>\n",
       "      <th>f0</th>\n",
       "      <th>f1</th>\n",
       "      <th>f2</th>\n",
       "      <th>product</th>\n",
       "    </tr>\n",
       "  </thead>\n",
       "  <tbody>\n",
       "    <tr>\n",
       "      <th>0</th>\n",
       "      <td>fwXo0</td>\n",
       "      <td>-1.146987</td>\n",
       "      <td>0.963328</td>\n",
       "      <td>-0.828965</td>\n",
       "      <td>27.758673</td>\n",
       "    </tr>\n",
       "    <tr>\n",
       "      <th>1</th>\n",
       "      <td>WJtFt</td>\n",
       "      <td>0.262778</td>\n",
       "      <td>0.269839</td>\n",
       "      <td>-2.530187</td>\n",
       "      <td>56.069697</td>\n",
       "    </tr>\n",
       "    <tr>\n",
       "      <th>2</th>\n",
       "      <td>ovLUW</td>\n",
       "      <td>0.194587</td>\n",
       "      <td>0.289035</td>\n",
       "      <td>-5.586433</td>\n",
       "      <td>62.871910</td>\n",
       "    </tr>\n",
       "    <tr>\n",
       "      <th>3</th>\n",
       "      <td>q6cA6</td>\n",
       "      <td>2.236060</td>\n",
       "      <td>-0.553760</td>\n",
       "      <td>0.930038</td>\n",
       "      <td>114.572842</td>\n",
       "    </tr>\n",
       "    <tr>\n",
       "      <th>4</th>\n",
       "      <td>WPMUX</td>\n",
       "      <td>-0.515993</td>\n",
       "      <td>1.716266</td>\n",
       "      <td>5.899011</td>\n",
       "      <td>149.600746</td>\n",
       "    </tr>\n",
       "  </tbody>\n",
       "</table>\n",
       "</div>"
      ],
      "text/plain": [
       "      id        f0        f1        f2     product\n",
       "0  fwXo0 -1.146987  0.963328 -0.828965   27.758673\n",
       "1  WJtFt  0.262778  0.269839 -2.530187   56.069697\n",
       "2  ovLUW  0.194587  0.289035 -5.586433   62.871910\n",
       "3  q6cA6  2.236060 -0.553760  0.930038  114.572842\n",
       "4  WPMUX -0.515993  1.716266  5.899011  149.600746"
      ]
     },
     "execution_count": 13,
     "metadata": {},
     "output_type": "execute_result"
    }
   ],
   "source": [
    "data_2.head()"
   ]
  },
  {
   "cell_type": "code",
   "execution_count": 14,
   "id": "c5040c45",
   "metadata": {},
   "outputs": [
    {
     "name": "stdout",
     "output_type": "stream",
     "text": [
      "<class 'pandas.core.frame.DataFrame'>\n",
      "RangeIndex: 100000 entries, 0 to 99999\n",
      "Data columns (total 5 columns):\n",
      " #   Column   Non-Null Count   Dtype  \n",
      "---  ------   --------------   -----  \n",
      " 0   id       100000 non-null  object \n",
      " 1   f0       100000 non-null  float64\n",
      " 2   f1       100000 non-null  float64\n",
      " 3   f2       100000 non-null  float64\n",
      " 4   product  100000 non-null  float64\n",
      "dtypes: float64(4), object(1)\n",
      "memory usage: 3.8+ MB\n"
     ]
    }
   ],
   "source": [
    "data_2.info()"
   ]
  },
  {
   "cell_type": "code",
   "execution_count": 15,
   "id": "da96c312",
   "metadata": {},
   "outputs": [
    {
     "data": {
      "text/plain": [
       "id         0\n",
       "f0         0\n",
       "f1         0\n",
       "f2         0\n",
       "product    0\n",
       "dtype: int64"
      ]
     },
     "execution_count": 15,
     "metadata": {},
     "output_type": "execute_result"
    }
   ],
   "source": [
    "data_2.isna().sum()"
   ]
  },
  {
   "cell_type": "code",
   "execution_count": 16,
   "id": "c857d034",
   "metadata": {},
   "outputs": [
    {
     "data": {
      "text/plain": [
       "0"
      ]
     },
     "execution_count": 16,
     "metadata": {},
     "output_type": "execute_result"
    }
   ],
   "source": [
    "data_2.duplicated().sum()"
   ]
  },
  {
   "cell_type": "code",
   "execution_count": 17,
   "id": "28d08845",
   "metadata": {},
   "outputs": [
    {
     "data": {
      "text/plain": [
       "count    100000.000000\n",
       "mean         95.000000\n",
       "std          44.749921\n",
       "min           0.000000\n",
       "25%          59.450441\n",
       "50%          94.925613\n",
       "75%         130.595027\n",
       "max         190.029838\n",
       "Name: product, dtype: float64"
      ]
     },
     "execution_count": 17,
     "metadata": {},
     "output_type": "execute_result"
    }
   ],
   "source": [
    "data_2['product'].describe()"
   ]
  },
  {
   "cell_type": "markdown",
   "id": "f92d852c",
   "metadata": {},
   "source": [
    "**Построим ящик с усами для трёх регионов для визуального ознакомления**"
   ]
  },
  {
   "cell_type": "markdown",
   "id": "9f84afe3",
   "metadata": {},
   "source": [
    "Выделим из трёх регионов объём запаса нефти и объединим в один датасет "
   ]
  },
  {
   "cell_type": "code",
   "execution_count": 18,
   "id": "f90c3315",
   "metadata": {
    "scrolled": true
   },
   "outputs": [
    {
     "data": {
      "text/html": [
       "<div>\n",
       "<style scoped>\n",
       "    .dataframe tbody tr th:only-of-type {\n",
       "        vertical-align: middle;\n",
       "    }\n",
       "\n",
       "    .dataframe tbody tr th {\n",
       "        vertical-align: top;\n",
       "    }\n",
       "\n",
       "    .dataframe thead th {\n",
       "        text-align: right;\n",
       "    }\n",
       "</style>\n",
       "<table border=\"1\" class=\"dataframe\">\n",
       "  <thead>\n",
       "    <tr style=\"text-align: right;\">\n",
       "      <th></th>\n",
       "      <th>1 регион</th>\n",
       "      <th>2 регион</th>\n",
       "      <th>3 регион</th>\n",
       "    </tr>\n",
       "  </thead>\n",
       "  <tbody>\n",
       "    <tr>\n",
       "      <th>0</th>\n",
       "      <td>105.280062</td>\n",
       "      <td>3.179103</td>\n",
       "      <td>27.758673</td>\n",
       "    </tr>\n",
       "    <tr>\n",
       "      <th>1</th>\n",
       "      <td>73.037750</td>\n",
       "      <td>26.953261</td>\n",
       "      <td>56.069697</td>\n",
       "    </tr>\n",
       "    <tr>\n",
       "      <th>2</th>\n",
       "      <td>85.265647</td>\n",
       "      <td>134.766305</td>\n",
       "      <td>62.871910</td>\n",
       "    </tr>\n",
       "    <tr>\n",
       "      <th>3</th>\n",
       "      <td>168.620776</td>\n",
       "      <td>137.945408</td>\n",
       "      <td>114.572842</td>\n",
       "    </tr>\n",
       "    <tr>\n",
       "      <th>4</th>\n",
       "      <td>154.036647</td>\n",
       "      <td>134.766305</td>\n",
       "      <td>149.600746</td>\n",
       "    </tr>\n",
       "  </tbody>\n",
       "</table>\n",
       "</div>"
      ],
      "text/plain": [
       "     1 регион    2 регион    3 регион\n",
       "0  105.280062    3.179103   27.758673\n",
       "1   73.037750   26.953261   56.069697\n",
       "2   85.265647  134.766305   62.871910\n",
       "3  168.620776  137.945408  114.572842\n",
       "4  154.036647  134.766305  149.600746"
      ]
     },
     "execution_count": 18,
     "metadata": {},
     "output_type": "execute_result"
    }
   ],
   "source": [
    "df0 = data_0['product']\n",
    "df1 = data_1['product']\n",
    "df2 = data_2['product']\n",
    "df012 = pd.DataFrame({\n",
    "    '1 регион': df0,\n",
    "    '2 регион': df1,\n",
    "    '3 регион': df2\n",
    "})\n",
    "df012.head()"
   ]
  },
  {
   "cell_type": "code",
   "execution_count": 19,
   "id": "f7e54142",
   "metadata": {
    "scrolled": false
   },
   "outputs": [
    {
     "data": {
      "image/png": "[encoded data removed]",
      "text/plain": [
       "<Figure size 640x480 with 1 Axes>"
      ]
     },
     "metadata": {},
     "output_type": "display_data"
    }
   ],
   "source": [
    "ax = sns.boxplot(data=df012)\n",
    "sns.set(rc={'figure.figsize':(15,10)})\n",
    "plt.title('Распределение запасов нефти по регионам')\n",
    "plt.ylabel('Объём запасов нефти в скважинах (тыс. баррелей)')\n",
    "plt.show()"
   ]
  },
  {
   "cell_type": "markdown",
   "id": "ac873067",
   "metadata": {},
   "source": [
    "**Вывод:**\n",
    "\n",
    "1. Данные чистые, пропусков и дубликатов нет.\n",
    "2. Колонки id имеют типы данных object. В дальнейшем необходимо изменить их на числовой тип.\n",
    "3. После построения ящика с усами по 3-ём регионам видно, что разброс значений во втором регионе меньше чем у остальных. В то же время наибольшее медианное значение в 3 регионе и данные 1-го с 3-им регионами распределены примерно одинаково. Медианное значение 2-го региона примерно одинаково с 0.25 квантилем 1-го и 3-го регионов."
   ]
  },
  {
   "cell_type": "markdown",
   "id": "edbbb427",
   "metadata": {},
   "source": [
    "**Дубликаты в 1-ом сете**"
   ]
  },
  {
   "cell_type": "code",
   "execution_count": 20,
   "id": "fc312214",
   "metadata": {},
   "outputs": [
    {
     "data": {
      "text/html": [
       "<div>\n",
       "<style scoped>\n",
       "    .dataframe tbody tr th:only-of-type {\n",
       "        vertical-align: middle;\n",
       "    }\n",
       "\n",
       "    .dataframe tbody tr th {\n",
       "        vertical-align: top;\n",
       "    }\n",
       "\n",
       "    .dataframe thead th {\n",
       "        text-align: right;\n",
       "    }\n",
       "</style>\n",
       "<table border=\"1\" class=\"dataframe\">\n",
       "  <thead>\n",
       "    <tr style=\"text-align: right;\">\n",
       "      <th></th>\n",
       "      <th>id</th>\n",
       "      <th>f0</th>\n",
       "      <th>f1</th>\n",
       "      <th>f2</th>\n",
       "      <th>product</th>\n",
       "    </tr>\n",
       "  </thead>\n",
       "  <tbody>\n",
       "    <tr>\n",
       "      <th>7530</th>\n",
       "      <td>HZww2</td>\n",
       "      <td>1.061194</td>\n",
       "      <td>-0.373969</td>\n",
       "      <td>10.430210</td>\n",
       "      <td>158.828695</td>\n",
       "    </tr>\n",
       "    <tr>\n",
       "      <th>41724</th>\n",
       "      <td>bxg6G</td>\n",
       "      <td>-0.823752</td>\n",
       "      <td>0.546319</td>\n",
       "      <td>3.630479</td>\n",
       "      <td>93.007798</td>\n",
       "    </tr>\n",
       "    <tr>\n",
       "      <th>51970</th>\n",
       "      <td>A5aEY</td>\n",
       "      <td>-0.180335</td>\n",
       "      <td>0.935548</td>\n",
       "      <td>-2.094773</td>\n",
       "      <td>33.020205</td>\n",
       "    </tr>\n",
       "    <tr>\n",
       "      <th>63593</th>\n",
       "      <td>QcMuo</td>\n",
       "      <td>0.635635</td>\n",
       "      <td>-0.473422</td>\n",
       "      <td>0.862670</td>\n",
       "      <td>64.578675</td>\n",
       "    </tr>\n",
       "    <tr>\n",
       "      <th>66136</th>\n",
       "      <td>74z30</td>\n",
       "      <td>1.084962</td>\n",
       "      <td>-0.312358</td>\n",
       "      <td>6.990771</td>\n",
       "      <td>127.643327</td>\n",
       "    </tr>\n",
       "    <tr>\n",
       "      <th>69163</th>\n",
       "      <td>AGS9W</td>\n",
       "      <td>-0.933795</td>\n",
       "      <td>0.116194</td>\n",
       "      <td>-3.655896</td>\n",
       "      <td>19.230453</td>\n",
       "    </tr>\n",
       "    <tr>\n",
       "      <th>75715</th>\n",
       "      <td>Tdehs</td>\n",
       "      <td>0.112079</td>\n",
       "      <td>0.430296</td>\n",
       "      <td>3.218993</td>\n",
       "      <td>60.964018</td>\n",
       "    </tr>\n",
       "    <tr>\n",
       "      <th>90815</th>\n",
       "      <td>fiKDv</td>\n",
       "      <td>0.049883</td>\n",
       "      <td>0.841313</td>\n",
       "      <td>6.394613</td>\n",
       "      <td>137.346586</td>\n",
       "    </tr>\n",
       "    <tr>\n",
       "      <th>92341</th>\n",
       "      <td>TtcGQ</td>\n",
       "      <td>0.110711</td>\n",
       "      <td>1.022689</td>\n",
       "      <td>0.911381</td>\n",
       "      <td>101.318008</td>\n",
       "    </tr>\n",
       "    <tr>\n",
       "      <th>97785</th>\n",
       "      <td>bsk9y</td>\n",
       "      <td>0.378429</td>\n",
       "      <td>0.005837</td>\n",
       "      <td>0.160827</td>\n",
       "      <td>160.637302</td>\n",
       "    </tr>\n",
       "  </tbody>\n",
       "</table>\n",
       "</div>"
      ],
      "text/plain": [
       "          id        f0        f1         f2     product\n",
       "7530   HZww2  1.061194 -0.373969  10.430210  158.828695\n",
       "41724  bxg6G -0.823752  0.546319   3.630479   93.007798\n",
       "51970  A5aEY -0.180335  0.935548  -2.094773   33.020205\n",
       "63593  QcMuo  0.635635 -0.473422   0.862670   64.578675\n",
       "66136  74z30  1.084962 -0.312358   6.990771  127.643327\n",
       "69163  AGS9W -0.933795  0.116194  -3.655896   19.230453\n",
       "75715  Tdehs  0.112079  0.430296   3.218993   60.964018\n",
       "90815  fiKDv  0.049883  0.841313   6.394613  137.346586\n",
       "92341  TtcGQ  0.110711  1.022689   0.911381  101.318008\n",
       "97785  bsk9y  0.378429  0.005837   0.160827  160.637302"
      ]
     },
     "execution_count": 20,
     "metadata": {},
     "output_type": "execute_result"
    }
   ],
   "source": [
    "data_0[data_0['id'].duplicated()]"
   ]
  },
  {
   "cell_type": "code",
   "execution_count": 21,
   "id": "f843fffc",
   "metadata": {},
   "outputs": [
    {
     "data": {
      "text/plain": [
       "(99990, 5)"
      ]
     },
     "execution_count": 21,
     "metadata": {},
     "output_type": "execute_result"
    }
   ],
   "source": [
    "data_0 = data_0.drop_duplicates(subset='id')\n",
    "data_0.shape"
   ]
  },
  {
   "cell_type": "markdown",
   "id": "d30f7319",
   "metadata": {},
   "source": [
    "**Дубликаты во 2-ом сете**"
   ]
  },
  {
   "cell_type": "code",
   "execution_count": 22,
   "id": "a7e1c596",
   "metadata": {},
   "outputs": [
    {
     "data": {
      "text/html": [
       "<div>\n",
       "<style scoped>\n",
       "    .dataframe tbody tr th:only-of-type {\n",
       "        vertical-align: middle;\n",
       "    }\n",
       "\n",
       "    .dataframe tbody tr th {\n",
       "        vertical-align: top;\n",
       "    }\n",
       "\n",
       "    .dataframe thead th {\n",
       "        text-align: right;\n",
       "    }\n",
       "</style>\n",
       "<table border=\"1\" class=\"dataframe\">\n",
       "  <thead>\n",
       "    <tr style=\"text-align: right;\">\n",
       "      <th></th>\n",
       "      <th>id</th>\n",
       "      <th>f0</th>\n",
       "      <th>f1</th>\n",
       "      <th>f2</th>\n",
       "      <th>product</th>\n",
       "    </tr>\n",
       "  </thead>\n",
       "  <tbody>\n",
       "    <tr>\n",
       "      <th>41906</th>\n",
       "      <td>LHZR0</td>\n",
       "      <td>-8.989672</td>\n",
       "      <td>-4.286607</td>\n",
       "      <td>2.009139</td>\n",
       "      <td>57.085625</td>\n",
       "    </tr>\n",
       "    <tr>\n",
       "      <th>82178</th>\n",
       "      <td>bfPNe</td>\n",
       "      <td>-6.202799</td>\n",
       "      <td>-4.820045</td>\n",
       "      <td>2.995107</td>\n",
       "      <td>84.038886</td>\n",
       "    </tr>\n",
       "    <tr>\n",
       "      <th>82873</th>\n",
       "      <td>wt4Uk</td>\n",
       "      <td>10.259972</td>\n",
       "      <td>-9.376355</td>\n",
       "      <td>4.994297</td>\n",
       "      <td>134.766305</td>\n",
       "    </tr>\n",
       "    <tr>\n",
       "      <th>84461</th>\n",
       "      <td>5ltQ6</td>\n",
       "      <td>18.213839</td>\n",
       "      <td>2.191999</td>\n",
       "      <td>3.993869</td>\n",
       "      <td>107.813044</td>\n",
       "    </tr>\n",
       "  </tbody>\n",
       "</table>\n",
       "</div>"
      ],
      "text/plain": [
       "          id         f0        f1        f2     product\n",
       "41906  LHZR0  -8.989672 -4.286607  2.009139   57.085625\n",
       "82178  bfPNe  -6.202799 -4.820045  2.995107   84.038886\n",
       "82873  wt4Uk  10.259972 -9.376355  4.994297  134.766305\n",
       "84461  5ltQ6  18.213839  2.191999  3.993869  107.813044"
      ]
     },
     "execution_count": 22,
     "metadata": {},
     "output_type": "execute_result"
    }
   ],
   "source": [
    "data_1[data_1['id'].duplicated()]"
   ]
  },
  {
   "cell_type": "code",
   "execution_count": 23,
   "id": "f7d643b9",
   "metadata": {},
   "outputs": [
    {
     "data": {
      "text/plain": [
       "(99996, 5)"
      ]
     },
     "execution_count": 23,
     "metadata": {},
     "output_type": "execute_result"
    }
   ],
   "source": [
    "data_1 = data_1.drop_duplicates(subset='id')\n",
    "data_1.shape"
   ]
  },
  {
   "cell_type": "markdown",
   "id": "0d69fff1",
   "metadata": {},
   "source": [
    "**Дубликаты в 3-ем сете**"
   ]
  },
  {
   "cell_type": "code",
   "execution_count": 24,
   "id": "d969fbe2",
   "metadata": {},
   "outputs": [
    {
     "data": {
      "text/html": [
       "<div>\n",
       "<style scoped>\n",
       "    .dataframe tbody tr th:only-of-type {\n",
       "        vertical-align: middle;\n",
       "    }\n",
       "\n",
       "    .dataframe tbody tr th {\n",
       "        vertical-align: top;\n",
       "    }\n",
       "\n",
       "    .dataframe thead th {\n",
       "        text-align: right;\n",
       "    }\n",
       "</style>\n",
       "<table border=\"1\" class=\"dataframe\">\n",
       "  <thead>\n",
       "    <tr style=\"text-align: right;\">\n",
       "      <th></th>\n",
       "      <th>id</th>\n",
       "      <th>f0</th>\n",
       "      <th>f1</th>\n",
       "      <th>f2</th>\n",
       "      <th>product</th>\n",
       "    </tr>\n",
       "  </thead>\n",
       "  <tbody>\n",
       "    <tr>\n",
       "      <th>43233</th>\n",
       "      <td>xCHr8</td>\n",
       "      <td>-0.847066</td>\n",
       "      <td>2.101796</td>\n",
       "      <td>5.597130</td>\n",
       "      <td>184.388641</td>\n",
       "    </tr>\n",
       "    <tr>\n",
       "      <th>49564</th>\n",
       "      <td>VF7Jo</td>\n",
       "      <td>-0.883115</td>\n",
       "      <td>0.560537</td>\n",
       "      <td>0.723601</td>\n",
       "      <td>136.233420</td>\n",
       "    </tr>\n",
       "    <tr>\n",
       "      <th>55967</th>\n",
       "      <td>KUPhW</td>\n",
       "      <td>1.211150</td>\n",
       "      <td>3.176408</td>\n",
       "      <td>5.543540</td>\n",
       "      <td>132.831802</td>\n",
       "    </tr>\n",
       "    <tr>\n",
       "      <th>95090</th>\n",
       "      <td>Vcm5J</td>\n",
       "      <td>2.587702</td>\n",
       "      <td>1.986875</td>\n",
       "      <td>2.482245</td>\n",
       "      <td>92.327572</td>\n",
       "    </tr>\n",
       "  </tbody>\n",
       "</table>\n",
       "</div>"
      ],
      "text/plain": [
       "          id        f0        f1        f2     product\n",
       "43233  xCHr8 -0.847066  2.101796  5.597130  184.388641\n",
       "49564  VF7Jo -0.883115  0.560537  0.723601  136.233420\n",
       "55967  KUPhW  1.211150  3.176408  5.543540  132.831802\n",
       "95090  Vcm5J  2.587702  1.986875  2.482245   92.327572"
      ]
     },
     "execution_count": 24,
     "metadata": {},
     "output_type": "execute_result"
    }
   ],
   "source": [
    "data_2[data_2['id'].duplicated()]"
   ]
  },
  {
   "cell_type": "code",
   "execution_count": 25,
   "id": "064a8cf2",
   "metadata": {},
   "outputs": [
    {
     "data": {
      "text/plain": [
       "(99996, 5)"
      ]
     },
     "execution_count": 25,
     "metadata": {},
     "output_type": "execute_result"
    }
   ],
   "source": [
    "data_2 = data_2.drop_duplicates(subset='id')\n",
    "data_2.shape"
   ]
  },
  {
   "cell_type": "code",
   "execution_count": 26,
   "id": "b54a3778",
   "metadata": {},
   "outputs": [
    {
     "data": {
      "image/png": "[encoded data removed]",
      "text/plain": [
       "<Figure size 1500x1000 with 2 Axes>"
      ]
     },
     "metadata": {},
     "output_type": "display_data"
    }
   ],
   "source": [
    "sns.heatmap(data_0.corr(), annot=True)\n",
    "plt.show()"
   ]
  },
  {
   "cell_type": "code",
   "execution_count": 27,
   "id": "dec8683e",
   "metadata": {},
   "outputs": [
    {
     "data": {
      "image/png": "[encoded data removed]",
      "text/plain": [
       "<Figure size 1500x1000 with 2 Axes>"
      ]
     },
     "metadata": {},
     "output_type": "display_data"
    }
   ],
   "source": [
    "sns.heatmap(data_1.corr(), annot=True)\n",
    "plt.show()"
   ]
  },
  {
   "cell_type": "code",
   "execution_count": 28,
   "id": "88aa2b79",
   "metadata": {},
   "outputs": [
    {
     "data": {
      "image/png": "[encoded data removed]",
      "text/plain": [
       "<Figure size 1500x1000 with 2 Axes>"
      ]
     },
     "metadata": {},
     "output_type": "display_data"
    }
   ],
   "source": [
    "sns.heatmap(data_2.corr(), annot=True)\n",
    "plt.show()"
   ]
  },
  {
   "cell_type": "markdown",
   "id": "a5346168",
   "metadata": {},
   "source": [
    "## Обучение и проверка модели"
   ]
  },
  {
   "cell_type": "markdown",
   "id": "7d40e4da",
   "metadata": {},
   "source": [
    "**Избавимся от колонки id во всех датасетах, нас этот параметр не интересует. В дальнейшем будем работать с индексами**"
   ]
  },
  {
   "cell_type": "code",
   "execution_count": 29,
   "id": "2024aa93",
   "metadata": {},
   "outputs": [],
   "source": [
    "data_0 = data_0.drop(['id'], axis=1)\n",
    "data_1 = data_1.drop(['id'], axis=1)\n",
    "data_2 = data_2.drop(['id'], axis=1)"
   ]
  },
  {
   "cell_type": "markdown",
   "id": "7b2ff587",
   "metadata": {},
   "source": [
    "### Разбивка данных на обучающую и валидационную"
   ]
  },
  {
   "cell_type": "markdown",
   "id": "b353b9e5",
   "metadata": {},
   "source": [
    "**1-ый регион**"
   ]
  },
  {
   "cell_type": "code",
   "execution_count": 30,
   "id": "f6e16405",
   "metadata": {},
   "outputs": [],
   "source": [
    "target_0 = data_0['product']\n",
    "features_0 = data_0.drop(['product'], axis=1)"
   ]
  },
  {
   "cell_type": "code",
   "execution_count": 31,
   "id": "60425876",
   "metadata": {},
   "outputs": [],
   "source": [
    "features_train_0, features_valid_0, target_train_0, target_valid_0 = train_test_split(\n",
    "    features_0, target_0, test_size=0.25, random_state=123)"
   ]
  },
  {
   "cell_type": "markdown",
   "id": "a1979bf6",
   "metadata": {},
   "source": [
    "**2-ой регион**"
   ]
  },
  {
   "cell_type": "code",
   "execution_count": 32,
   "id": "cb32dfe8",
   "metadata": {},
   "outputs": [],
   "source": [
    "target_1 = data_1['product']\n",
    "features_1 = data_1.drop(['product'], axis=1)"
   ]
  },
  {
   "cell_type": "code",
   "execution_count": 33,
   "id": "9ee71357",
   "metadata": {},
   "outputs": [],
   "source": [
    "features_train_1, features_valid_1, target_train_1, target_valid_1 = train_test_split(\n",
    "    features_1, target_1, test_size=0.25, random_state=123)"
   ]
  },
  {
   "cell_type": "markdown",
   "id": "f58b100d",
   "metadata": {},
   "source": [
    "**3-ий регион**"
   ]
  },
  {
   "cell_type": "code",
   "execution_count": 34,
   "id": "951c6303",
   "metadata": {},
   "outputs": [],
   "source": [
    "target_2 = data_2['product']\n",
    "features_2 = data_2.drop(['product'], axis=1)"
   ]
  },
  {
   "cell_type": "code",
   "execution_count": 35,
   "id": "b3468080",
   "metadata": {},
   "outputs": [],
   "source": [
    "features_train_2, features_valid_2, target_train_2, target_valid_2 = train_test_split(\n",
    "    features_2, target_2, test_size=0.25, random_state=123)\n"
   ]
  },
  {
   "cell_type": "code",
   "execution_count": 36,
   "id": "375edd30",
   "metadata": {},
   "outputs": [
    {
     "data": {
      "text/plain": [
       "0.74999499949995"
      ]
     },
     "execution_count": 36,
     "metadata": {},
     "output_type": "execute_result"
    }
   ],
   "source": [
    "len(features_train_0)/len(data_0)"
   ]
  },
  {
   "cell_type": "code",
   "execution_count": 37,
   "id": "3e1c0950",
   "metadata": {},
   "outputs": [
    {
     "data": {
      "text/plain": [
       "0.25000500050005"
      ]
     },
     "execution_count": 37,
     "metadata": {},
     "output_type": "execute_result"
    }
   ],
   "source": [
    "len(target_valid_0)/len(data_0)"
   ]
  },
  {
   "cell_type": "markdown",
   "id": "e7d80ba6",
   "metadata": {},
   "source": [
    "### Обучение моделей"
   ]
  },
  {
   "cell_type": "markdown",
   "id": "fcc14141",
   "metadata": {},
   "source": [
    "**1-ый регион**"
   ]
  },
  {
   "cell_type": "code",
   "execution_count": 38,
   "id": "4ea41fa6",
   "metadata": {},
   "outputs": [
    {
     "data": {
      "text/plain": [
       "array([111.11102972, 107.11699095, 120.4530202 , ...,  49.62160423,\n",
       "        84.20631555,  95.18890119])"
      ]
     },
     "execution_count": 38,
     "metadata": {},
     "output_type": "execute_result"
    }
   ],
   "source": [
    "model_0 = LinearRegression()\n",
    "model_0.fit(features_train_0,target_train_0)\n",
    "predict_0 = model_0.predict(features_valid_0)\n",
    "predict_0"
   ]
  },
  {
   "cell_type": "markdown",
   "id": "ec9b0443",
   "metadata": {},
   "source": [
    "**2-ой регион**"
   ]
  },
  {
   "cell_type": "code",
   "execution_count": 39,
   "id": "d4ca252f",
   "metadata": {},
   "outputs": [],
   "source": [
    "model_1 = LinearRegression()\n",
    "model_1.fit(features_train_1,target_train_1)\n",
    "predict_1 = model_1.predict(features_valid_1)"
   ]
  },
  {
   "cell_type": "markdown",
   "id": "d15d9715",
   "metadata": {},
   "source": [
    "**3-ий регион**"
   ]
  },
  {
   "cell_type": "code",
   "execution_count": 40,
   "id": "729a429d",
   "metadata": {},
   "outputs": [],
   "source": [
    "model_2 = LinearRegression()\n",
    "model_2.fit(features_train_2,target_train_2)\n",
    "predict_2 = model_2.predict(features_valid_2)"
   ]
  },
  {
   "cell_type": "markdown",
   "id": "9c47a820",
   "metadata": {},
   "source": [
    "### Вывод среднего запаса предсказанного сырья и RMSE моделей"
   ]
  },
  {
   "cell_type": "markdown",
   "id": "fdebdbc2",
   "metadata": {},
   "source": [
    "**1-ый регион**"
   ]
  },
  {
   "cell_type": "code",
   "execution_count": 41,
   "id": "4d61d805",
   "metadata": {},
   "outputs": [],
   "source": [
    "rmse_0 = mean_squared_error(target_valid_0, predict_0)**0.5"
   ]
  },
  {
   "cell_type": "code",
   "execution_count": 42,
   "id": "22f3d985",
   "metadata": {},
   "outputs": [
    {
     "name": "stdout",
     "output_type": "stream",
     "text": [
      "Средний запас предсказанного сырья: 92.68062036375521\n",
      "RMSE модели 1-го региона: 37.59580657262362\n"
     ]
    }
   ],
   "source": [
    "print('Средний запас предсказанного сырья:',predict_0.mean())\n",
    "print('RMSE модели 1-го региона:', rmse_0)"
   ]
  },
  {
   "cell_type": "markdown",
   "id": "c2936803",
   "metadata": {},
   "source": [
    "**2-ой регион**"
   ]
  },
  {
   "cell_type": "code",
   "execution_count": 43,
   "id": "8856da68",
   "metadata": {},
   "outputs": [],
   "source": [
    "rmse_1 = mean_squared_error(target_valid_1, predict_1)**0.5"
   ]
  },
  {
   "cell_type": "code",
   "execution_count": 44,
   "id": "8d64f3c3",
   "metadata": {},
   "outputs": [
    {
     "name": "stdout",
     "output_type": "stream",
     "text": [
      "Средний запас предсказанного сырья: 69.31422919477677\n",
      "RMSE модели 2-го региона: 0.8944711936820187\n"
     ]
    }
   ],
   "source": [
    "print('Средний запас предсказанного сырья:',predict_1.mean())\n",
    "print('RMSE модели 2-го региона:', rmse_1)"
   ]
  },
  {
   "cell_type": "markdown",
   "id": "a2ddabbb",
   "metadata": {},
   "source": [
    "**3-ий регион**"
   ]
  },
  {
   "cell_type": "code",
   "execution_count": 45,
   "id": "b02d1614",
   "metadata": {},
   "outputs": [],
   "source": [
    "rmse_2 = mean_squared_error(target_valid_2, predict_2)**0.5"
   ]
  },
  {
   "cell_type": "code",
   "execution_count": 46,
   "id": "15d78050",
   "metadata": {},
   "outputs": [
    {
     "name": "stdout",
     "output_type": "stream",
     "text": [
      "Средний запас предсказанного сырья: 94.93789877099006\n",
      "RMSE модели 3-го региона: 40.04908749269797\n"
     ]
    }
   ],
   "source": [
    "print('Средний запас предсказанного сырья:',predict_2.mean())\n",
    "print('RMSE модели 3-го региона:', rmse_2)"
   ]
  },
  {
   "cell_type": "markdown",
   "id": "b4f37819",
   "metadata": {},
   "source": [
    "**Вывод:** лучший показатель RMSE у 2-го региона, среднее квадратичное отклонение всех значений расположены достаточно плотно, чего нельзя скащать о 1-ом и 3-ем регионах."
   ]
  },
  {
   "cell_type": "markdown",
   "id": "c73a1a15",
   "metadata": {},
   "source": [
    "## Подготовка к расчёту прибыли"
   ]
  },
  {
   "cell_type": "markdown",
   "id": "0286da70",
   "metadata": {},
   "source": [
    "При разведке региона исследуют 500 точек, из которых с помощью машинного обучения выбирают 200 лучших для разработки.\n",
    "\n",
    "Бюджет на разработку скважин в регионе — 10 млрд рублей.\n",
    "\n",
    "При нынешних ценах один баррель сырья приносит 450 рублей дохода. Доход с каждой единицы продукта составляет 450 тыс. рублей, поскольку объём указан в тысячах баррелей.\n",
    "\n",
    "После оценки рисков нужно оставить лишь те регионы, в которых вероятность убытков меньше 2.5%. Среди них выбирают регион с наибольшей средней прибылью."
   ]
  },
  {
   "cell_type": "markdown",
   "id": "23ea4322",
   "metadata": {},
   "source": [
    "### Отдельные переменные для ключевых значений"
   ]
  },
  {
   "cell_type": "code",
   "execution_count": 47,
   "id": "c63f5ddd",
   "metadata": {},
   "outputs": [],
   "source": [
    "points_research = 500 # исследуемые точки\n",
    "best_points = 200 # количество лучших точек\n",
    "budget = 10000000 # общий бюджет в тыс.руб\n",
    "one_barrel_cost = 450 # стоимость барреля в тыс.руб\n",
    "prob_losses = 2.5/100\n",
    "borehole_cost = budget/200 # стоимость разработки одной скважины в тыс.руб"
   ]
  },
  {
   "cell_type": "code",
   "execution_count": 48,
   "id": "ce5a1cee",
   "metadata": {},
   "outputs": [
    {
     "name": "stdout",
     "output_type": "stream",
     "text": [
      "Стоимость разработки одной скважины: 50000.0 тыс. руб\n"
     ]
    }
   ],
   "source": [
    "print('Стоимость разработки одной скважины:',borehole_cost, 'тыс. руб')"
   ]
  },
  {
   "cell_type": "markdown",
   "id": "25ab9f1b",
   "metadata": {},
   "source": [
    "### Рассчитаем достаточный объём сырья для безубыточной разработки новой скважины. Сравним полученный объём сырья со средним запасом в каждом регионе."
   ]
  },
  {
   "cell_type": "code",
   "execution_count": 49,
   "id": "14c5fc09",
   "metadata": {},
   "outputs": [],
   "source": [
    "valume = borehole_cost/one_barrel_cost"
   ]
  },
  {
   "cell_type": "code",
   "execution_count": 50,
   "id": "e277b37e",
   "metadata": {},
   "outputs": [
    {
     "name": "stdout",
     "output_type": "stream",
     "text": [
      "Необходимый объем сырья в одной скважине: 111.11111111111111 тыс. баррелей\n"
     ]
    }
   ],
   "source": [
    "print('Необходимый объем сырья в одной скважине:',valume, 'тыс. баррелей')"
   ]
  },
  {
   "cell_type": "markdown",
   "id": "e2be0eda",
   "metadata": {},
   "source": [
    "**Средний запас сырья в 1-ом регионе (тыс.баррелей)**"
   ]
  },
  {
   "cell_type": "code",
   "execution_count": 51,
   "id": "7cb43f97",
   "metadata": {},
   "outputs": [
    {
     "data": {
      "text/plain": [
       "92.49968421774328"
      ]
     },
     "execution_count": 51,
     "metadata": {},
     "output_type": "execute_result"
    }
   ],
   "source": [
    "data_0['product'].mean()"
   ]
  },
  {
   "cell_type": "markdown",
   "id": "1c5d6a48",
   "metadata": {},
   "source": [
    "**Средний запас сырья во 2-ом регионе (тыс.баррелей)**"
   ]
  },
  {
   "cell_type": "code",
   "execution_count": 52,
   "id": "7cec2d33",
   "metadata": {},
   "outputs": [
    {
     "data": {
      "text/plain": [
       "68.82391591806625"
      ]
     },
     "execution_count": 52,
     "metadata": {},
     "output_type": "execute_result"
    }
   ],
   "source": [
    "data_1['product'].mean()"
   ]
  },
  {
   "cell_type": "markdown",
   "id": "aacc8028",
   "metadata": {},
   "source": [
    "**Средний запас сырья в 3-ем регионе (тыс.баррелей)**"
   ]
  },
  {
   "cell_type": "code",
   "execution_count": 53,
   "id": "be19f597",
   "metadata": {},
   "outputs": [
    {
     "data": {
      "text/plain": [
       "94.99834211933415"
      ]
     },
     "execution_count": 53,
     "metadata": {},
     "output_type": "execute_result"
    }
   ],
   "source": [
    "data_2['product'].mean()"
   ]
  },
  {
   "cell_type": "markdown",
   "id": "c272353c",
   "metadata": {},
   "source": [
    "**Вывод:** Опираясь на среднее значение объема сырья в кажном регионе можно сделать вывод, что все они не подходят. Стоит учесть следующий факт: среднее число считалось по всей выборке из 100 тыс. значений. Нам необходимо выделить из всех именно 200 скважин с наибольшим объёмом нефти, в это случае среднее число может увеличиться. "
   ]
  },
  {
   "cell_type": "markdown",
   "id": "64dcc32b",
   "metadata": {},
   "source": [
    "## Расчёт прибыли и рисков "
   ]
  },
  {
   "cell_type": "markdown",
   "id": "0033012b",
   "metadata": {},
   "source": [
    "### Выбераем скважины с максимальными значениями предсказаний. "
   ]
  },
  {
   "cell_type": "markdown",
   "id": "8cb4f928",
   "metadata": {},
   "source": [
    "**200-и лучших скважин в 1-ом регионе**"
   ]
  },
  {
   "cell_type": "code",
   "execution_count": 54,
   "id": "41cfb2e7",
   "metadata": {},
   "outputs": [
    {
     "data": {
      "text/plain": [
       "24676    180.578526\n",
       "4937     176.376012\n",
       "11187    175.766108\n",
       "12612    172.841694\n",
       "21197    170.456788\n",
       "            ...    \n",
       "21728    147.776884\n",
       "23769    147.761719\n",
       "15120    147.753369\n",
       "17327    147.747818\n",
       "18166    147.747337\n",
       "Length: 200, dtype: float64"
      ]
     },
     "execution_count": 54,
     "metadata": {},
     "output_type": "execute_result"
    }
   ],
   "source": [
    "max_value_0 = pd.Series(predict_0).sort_values(ascending=False)\n",
    "max_value_0 = max_value_0[:200]\n",
    "max_value_0"
   ]
  },
  {
   "cell_type": "markdown",
   "id": "fad0b72d",
   "metadata": {},
   "source": [
    "**200-и лучших скважин во 2-ом регионе**"
   ]
  },
  {
   "cell_type": "code",
   "execution_count": 55,
   "id": "fab9fa20",
   "metadata": {},
   "outputs": [
    {
     "data": {
      "text/plain": [
       "23985    139.913902\n",
       "4452     139.862310\n",
       "9161     139.732907\n",
       "14876    139.713300\n",
       "12731    139.709811\n",
       "            ...    \n",
       "22953    138.422586\n",
       "21039    138.420172\n",
       "10029    138.419731\n",
       "21183    138.417832\n",
       "1730     138.417745\n",
       "Length: 200, dtype: float64"
      ]
     },
     "execution_count": 55,
     "metadata": {},
     "output_type": "execute_result"
    }
   ],
   "source": [
    "max_value_1 = pd.Series(predict_1).sort_values(ascending=False)\n",
    "max_value_1 = max_value_1[:200]\n",
    "max_value_1"
   ]
  },
  {
   "cell_type": "markdown",
   "id": "f0ca965e",
   "metadata": {},
   "source": [
    "**200-и лучших скважин в 3-ем регионе**"
   ]
  },
  {
   "cell_type": "code",
   "execution_count": 56,
   "id": "94a314bf",
   "metadata": {},
   "outputs": [
    {
     "data": {
      "text/plain": [
       "13966    174.310490\n",
       "1334     174.190917\n",
       "2975     166.493041\n",
       "23187    165.671702\n",
       "1790     164.307927\n",
       "            ...    \n",
       "3373     142.875834\n",
       "14729    142.820631\n",
       "21039    142.813427\n",
       "647      142.783591\n",
       "10113    142.726973\n",
       "Length: 200, dtype: float64"
      ]
     },
     "execution_count": 56,
     "metadata": {},
     "output_type": "execute_result"
    }
   ],
   "source": [
    "max_value_2 = pd.Series(predict_2).sort_values(ascending=False)\n",
    "max_value_2 = max_value_2[:200]\n",
    "max_value_2"
   ]
  },
  {
   "cell_type": "markdown",
   "id": "70dd2027",
   "metadata": {},
   "source": [
    "### Просуммируем целевые значение объёма сырья, соответствующих этим предсказаниям."
   ]
  },
  {
   "cell_type": "markdown",
   "id": "65e027d8",
   "metadata": {},
   "source": [
    "**Общий объем сырья 200-а скважин в 1-ом регионе (тыс.баррелей)**"
   ]
  },
  {
   "cell_type": "code",
   "execution_count": 57,
   "id": "f38d7f0c",
   "metadata": {},
   "outputs": [
    {
     "data": {
      "text/plain": [
       "30899.236226178466"
      ]
     },
     "execution_count": 57,
     "metadata": {},
     "output_type": "execute_result"
    }
   ],
   "source": [
    "max_value_0.sum()"
   ]
  },
  {
   "cell_type": "markdown",
   "id": "933c47c5",
   "metadata": {},
   "source": [
    "**Общий объем сырья 200-а скважин во 2-ом регионе (тыс.баррелей)**"
   ]
  },
  {
   "cell_type": "code",
   "execution_count": 58,
   "id": "899e6365",
   "metadata": {},
   "outputs": [
    {
     "data": {
      "text/plain": [
       "27754.952187533985"
      ]
     },
     "execution_count": 58,
     "metadata": {},
     "output_type": "execute_result"
    }
   ],
   "source": [
    "max_value_1.sum()"
   ]
  },
  {
   "cell_type": "markdown",
   "id": "f04d6e8e",
   "metadata": {},
   "source": [
    "**Общий объем сырья 200-а скважин в 3-ем регионе (тыс.баррелей)**"
   ]
  },
  {
   "cell_type": "code",
   "execution_count": 59,
   "id": "31789658",
   "metadata": {},
   "outputs": [
    {
     "data": {
      "text/plain": [
       "29832.290197039518"
      ]
     },
     "execution_count": 59,
     "metadata": {},
     "output_type": "execute_result"
    }
   ],
   "source": [
    "max_value_2.sum()"
   ]
  },
  {
   "cell_type": "markdown",
   "id": "e9f755b6",
   "metadata": {},
   "source": [
    "### Рассчитаем прибыль для полученного объёма сырья."
   ]
  },
  {
   "cell_type": "markdown",
   "id": "2ae90729",
   "metadata": {},
   "source": [
    "**Прибыль в 1-ом регионе (тыс.руб)**"
   ]
  },
  {
   "cell_type": "code",
   "execution_count": 60,
   "id": "f23a0d24",
   "metadata": {},
   "outputs": [
    {
     "data": {
      "text/plain": [
       "3904656.30178"
      ]
     },
     "execution_count": 60,
     "metadata": {},
     "output_type": "execute_result"
    }
   ],
   "source": [
    "((max_value_0.sum())*one_barrel_cost-budget).round(5)"
   ]
  },
  {
   "cell_type": "markdown",
   "id": "4e5e62bd",
   "metadata": {},
   "source": [
    "**Прибыль во 2-ом регионе (тыс.руб)**"
   ]
  },
  {
   "cell_type": "code",
   "execution_count": 61,
   "id": "5b30500a",
   "metadata": {},
   "outputs": [
    {
     "data": {
      "text/plain": [
       "2489728.48439"
      ]
     },
     "execution_count": 61,
     "metadata": {},
     "output_type": "execute_result"
    }
   ],
   "source": [
    "((max_value_1.sum())*one_barrel_cost-budget).round(5)"
   ]
  },
  {
   "cell_type": "markdown",
   "id": "002ed6ec",
   "metadata": {},
   "source": [
    "**Прибыль в 3-ем регионе (тыс.руб)**"
   ]
  },
  {
   "cell_type": "code",
   "execution_count": 62,
   "id": "350bc6e1",
   "metadata": {},
   "outputs": [
    {
     "data": {
      "text/plain": [
       "3424530.58867"
      ]
     },
     "execution_count": 62,
     "metadata": {},
     "output_type": "execute_result"
    }
   ],
   "source": [
    "((max_value_2.sum())*one_barrel_cost-budget).round(5)"
   ]
  },
  {
   "cell_type": "markdown",
   "id": "055b1628",
   "metadata": {},
   "source": [
    "### Посчитаем риски и прибыль для каждого региона:"
   ]
  },
  {
   "cell_type": "markdown",
   "id": "71688e27",
   "metadata": {},
   "source": [
    "**Для 1-го региона**"
   ]
  },
  {
   "cell_type": "code",
   "execution_count": 63,
   "id": "81a78400",
   "metadata": {},
   "outputs": [],
   "source": [
    "def revenue(predict, target,count):\n",
    "    predict_sorted = pd.Series(predict, index=target.index).sort_values(ascending=False)\n",
    "    selected = target[predict_sorted.index][:count]\n",
    "    return selected.sum()*one_barrel_cost-budget"
   ]
  },
  {
   "cell_type": "code",
   "execution_count": 64,
   "id": "d5bc5407",
   "metadata": {},
   "outputs": [],
   "source": [
    "state = np.random.RandomState(12345)\n",
    "values_0 =[]\n",
    "for i in range(1000):\n",
    "    target_subsample = target_valid_0.sample(n=500, replace=True, random_state=state)\n",
    "    predict_subsample = pd.Series(predict_0, index=target_valid_0.index)[target_subsample.index]\n",
    "    values_0.append(revenue(predict_subsample, target_subsample, 200))"
   ]
  },
  {
   "cell_type": "code",
   "execution_count": 65,
   "id": "059a64e6",
   "metadata": {},
   "outputs": [],
   "source": [
    "values_0 = pd.Series(values_0)"
   ]
  },
  {
   "cell_type": "code",
   "execution_count": 66,
   "id": "28f84699",
   "metadata": {},
   "outputs": [],
   "source": [
    "interval_0 = st.t.interval(confidence=0.95, df=len(values_0)-1, loc=np.mean(values_0), scale=st.sem(values_0))"
   ]
  },
  {
   "cell_type": "code",
   "execution_count": 67,
   "id": "7769785e",
   "metadata": {},
   "outputs": [
    {
     "data": {
      "text/plain": [
       "6.0"
      ]
     },
     "execution_count": 67,
     "metadata": {},
     "output_type": "execute_result"
    }
   ],
   "source": [
    "((values_0 < 0).sum()/len(values_0))*100"
   ]
  },
  {
   "cell_type": "code",
   "execution_count": 68,
   "id": "ca1dbf8e",
   "metadata": {},
   "outputs": [
    {
     "data": {
      "image/png": "[encoded data removed]",
      "text/plain": [
       "<Figure size 1200x800 with 1 Axes>"
      ]
     },
     "metadata": {},
     "output_type": "display_data"
    }
   ],
   "source": [
    "values_0.plot(kind=\"hist\", grid=True, figsize=(12,8))\n",
    "plt.title('Распределение прибыли')\n",
    "plt.xlabel('Прибыль, тыс.руб')\n",
    "plt.ylabel('Количество')\n",
    "plt.show()"
   ]
  },
  {
   "cell_type": "code",
   "execution_count": 69,
   "id": "d76d7914",
   "metadata": {},
   "outputs": [
    {
     "name": "stdout",
     "output_type": "stream",
     "text": [
      "Средняя прибыль: 427355.56719 тыс.руб\n",
      "0.25 квантиль: -102314.5129812944\n",
      "0.975 квантиль: 980489.1151293296\n",
      "95%-ый доверительный интервал: от 410086.50636 тыс.руб до 444624.62802 тыс.руб\n",
      "Вероятность убытка (%): 6.0\n"
     ]
    }
   ],
   "source": [
    "print('Средняя прибыль:',round((values_0.mean()),5), 'тыс.руб')\n",
    "print('0.25 квантиль:',values_0.quantile(0.025))\n",
    "print('0.975 квантиль:',values_0.quantile(0.975))\n",
    "print('95%-ый доверительный интервал: от',(interval_0[0]).round(5), 'тыс.руб до',(interval_0[1].round(5)),'тыс.руб')\n",
    "print('Вероятность убытка (%):',((values_0 < 0).sum()/len(values_0))*100)"
   ]
  },
  {
   "cell_type": "markdown",
   "id": "ba0a3fac",
   "metadata": {},
   "source": [
    "**Для 2-го региона**"
   ]
  },
  {
   "cell_type": "code",
   "execution_count": 70,
   "id": "1717e7a5",
   "metadata": {},
   "outputs": [],
   "source": [
    "state = np.random.RandomState(12345)\n",
    "values_1 = []\n",
    "for i in range(1000):\n",
    "    target_subsample = target_valid_1.sample(n=500, replace=True, random_state=state)\n",
    "    predict_subsample = pd.Series(predict_1, index=target_valid_1.index)[target_subsample.index]\n",
    "    values_1.append(revenue(predict_subsample, target_subsample, 200))"
   ]
  },
  {
   "cell_type": "code",
   "execution_count": 71,
   "id": "7c4efedb",
   "metadata": {},
   "outputs": [],
   "source": [
    "values_1 = pd.Series(values_1)"
   ]
  },
  {
   "cell_type": "code",
   "execution_count": 72,
   "id": "2ef01797",
   "metadata": {},
   "outputs": [],
   "source": [
    "interval_1 = st.t.interval(confidence=0.95, df=len(values_1)-1, loc=np.mean(values_1), scale=st.sem(values_1))"
   ]
  },
  {
   "cell_type": "code",
   "execution_count": 73,
   "id": "b5ac57fb",
   "metadata": {},
   "outputs": [
    {
     "data": {
      "image/png": "[encoded data removed]",
      "text/plain": [
       "<Figure size 1200x800 with 1 Axes>"
      ]
     },
     "metadata": {},
     "output_type": "display_data"
    }
   ],
   "source": [
    "values_1.plot(kind=\"hist\", grid=True, figsize=(12,8))\n",
    "plt.title('Распределение прибыли')\n",
    "plt.xlabel('Прибыль, тыс.руб')\n",
    "plt.ylabel('Количество')\n",
    "plt.show()"
   ]
  },
  {
   "cell_type": "code",
   "execution_count": 74,
   "id": "215f47dd",
   "metadata": {},
   "outputs": [
    {
     "name": "stdout",
     "output_type": "stream",
     "text": [
      "Средняя прибыль: 544535.62661 тыс.руб\n",
      "0.25 квантиль: 134494.04934344278\n",
      "0.975 квантиль: 997819.9584822335\n",
      "95%-ый доверительный интервал: от 530880.19754 тыс.руб до 558191.05568 тыс.руб\n",
      "Вероятность убытка (%): 0.2\n"
     ]
    }
   ],
   "source": [
    "print('Средняя прибыль:',round((values_1.mean()),5), 'тыс.руб')\n",
    "print('0.25 квантиль:',values_1.quantile(0.025))\n",
    "print('0.975 квантиль:',values_1.quantile(0.975))\n",
    "print('95%-ый доверительный интервал: от',(interval_1[0]).round(5), 'тыс.руб до',(interval_1[1].round(5)),'тыс.руб')\n",
    "print('Вероятность убытка (%):',((values_1 < 0).sum()/len(values_1))*100)"
   ]
  },
  {
   "cell_type": "markdown",
   "id": "dac43772",
   "metadata": {},
   "source": [
    "**Для 3-го региона**"
   ]
  },
  {
   "cell_type": "code",
   "execution_count": 75,
   "id": "cb29211d",
   "metadata": {},
   "outputs": [],
   "source": [
    "state = np.random.RandomState(12345)\n",
    "values_2 = []\n",
    "for i in range(1000):\n",
    "    target_subsample = target_valid_2.sample(n=500, replace=True, random_state=state)\n",
    "    predict_subsample = pd.Series(predict_2, index=target_valid_2.index)[target_subsample.index]\n",
    "    values_2.append(revenue(predict_subsample, target_subsample, 200))"
   ]
  },
  {
   "cell_type": "code",
   "execution_count": 76,
   "id": "9bf3707c",
   "metadata": {},
   "outputs": [],
   "source": [
    "values_2 = pd.Series(values_2)"
   ]
  },
  {
   "cell_type": "code",
   "execution_count": 77,
   "id": "1a43e464",
   "metadata": {},
   "outputs": [],
   "source": [
    "interval_2 = st.t.interval(confidence=0.95, df=len(values_2)-1, loc=np.mean(values_2), scale=st.sem(values_2))"
   ]
  },
  {
   "cell_type": "code",
   "execution_count": 78,
   "id": "c2cf4563",
   "metadata": {},
   "outputs": [
    {
     "data": {
      "image/png": "[encoded data removed]",
      "text/plain": [
       "<Figure size 1200x800 with 1 Axes>"
      ]
     },
     "metadata": {},
     "output_type": "display_data"
    }
   ],
   "source": [
    "values_2.plot(kind=\"hist\", grid=True, figsize=(12,8))\n",
    "plt.title('Распределение прибыли')\n",
    "plt.xlabel('Прибыль, тыс.руб')\n",
    "plt.ylabel('Количество')\n",
    "plt.show()"
   ]
  },
  {
   "cell_type": "code",
   "execution_count": 79,
   "id": "dea61f46",
   "metadata": {},
   "outputs": [
    {
     "name": "stdout",
     "output_type": "stream",
     "text": [
      "Средняя прибыль: 368644.19906 тыс.руб\n",
      "0.25 квантиль: -175033.29721882605\n",
      "0.975 квантиль: 890842.9402342946\n",
      "95%-ый доверительный интервал: от 351311.66869 тыс.руб до 385976.72944 тыс.руб\n",
      "Вероятность убытка (%): 9.0\n"
     ]
    }
   ],
   "source": [
    "print('Средняя прибыль:',round((values_2.mean()),5), 'тыс.руб')\n",
    "print('0.25 квантиль:',values_2.quantile(0.025))\n",
    "print('0.975 квантиль:',values_2.quantile(0.975))\n",
    "print('95%-ый доверительный интервал: от',(interval_2[0]).round(5), 'тыс.руб до',(interval_2[1].round(5)),'тыс.руб')\n",
    "print('Вероятность убытка (%):',((values_2 < 0).sum()/len(values_2))*100)"
   ]
  },
  {
   "cell_type": "code",
   "execution_count": 80,
   "id": "1d45ca3f",
   "metadata": {},
   "outputs": [],
   "source": [
    "def new_revenue(predict, target, count):\n",
    "    state = np.random.RandomState(12345)\n",
    "    values = []\n",
    "    for i in range(1000):\n",
    "        target_subsample = target.sample(n=500, replace=True, random_state = state)\n",
    "        predict_subsample = pd.Series(predict, index=target.index)[target_subsample.index]\n",
    "        values.append(revenue(predict_subsample, target_subsample, 200))\n",
    "    values = pd.Series(values)\n",
    "    inter = st.t.interval(confidence=0.95, df=len(values)-1, loc=np.mean(values), scale=st.sem(values))\n",
    "    \n",
    "    values.plot(kind=\"hist\", grid=True, figsize=(12,8))\n",
    "    plt.title('Распределение прибыли')\n",
    "    plt.xlabel('Прибыль, тыс.руб')\n",
    "    plt.ylabel('Количество')\n",
    "    plt.show()\n",
    "    \n",
    "    print('Средняя прибыль:',round((values.mean()),5), 'тыс.руб')\n",
    "    print('95%-ый доверительный интервал: от',(inter[0]).round(5), 'тыс.руб до',(inter[1].round(5)),'тыс.руб')\n",
    "    print('Вероятность убытка (%):',((values < 0).sum()/len(values))*100)"
   ]
  },
  {
   "cell_type": "code",
   "execution_count": 81,
   "id": "84e5148a",
   "metadata": {},
   "outputs": [
    {
     "data": {
      "image/png": "[encoded data removed]",
      "text/plain": [
       "<Figure size 1200x800 with 1 Axes>"
      ]
     },
     "metadata": {},
     "output_type": "display_data"
    },
    {
     "name": "stdout",
     "output_type": "stream",
     "text": [
      "Средняя прибыль: 427355.56719 тыс.руб\n",
      "95%-ый доверительный интервал: от 410086.50636 тыс.руб до 444624.62802 тыс.руб\n",
      "Вероятность убытка (%): 6.0\n"
     ]
    }
   ],
   "source": [
    "new_revenue(predict_0, target_valid_0, 200)"
   ]
  },
  {
   "cell_type": "code",
   "execution_count": 82,
   "id": "2d1203c6",
   "metadata": {},
   "outputs": [
    {
     "data": {
      "image/png": "[encoded data removed]",
      "text/plain": [
       "<Figure size 1200x800 with 1 Axes>"
      ]
     },
     "metadata": {},
     "output_type": "display_data"
    },
    {
     "name": "stdout",
     "output_type": "stream",
     "text": [
      "Средняя прибыль: 544535.62661 тыс.руб\n",
      "95%-ый доверительный интервал: от 530880.19754 тыс.руб до 558191.05568 тыс.руб\n",
      "Вероятность убытка (%): 0.2\n"
     ]
    }
   ],
   "source": [
    "new_revenue(predict_1, target_valid_1, 200)"
   ]
  },
  {
   "cell_type": "code",
   "execution_count": 83,
   "id": "6a6b3f3e",
   "metadata": {},
   "outputs": [
    {
     "data": {
      "image/png": "[encoded data removed]",
      "text/plain": [
       "<Figure size 1200x800 with 1 Axes>"
      ]
     },
     "metadata": {},
     "output_type": "display_data"
    },
    {
     "name": "stdout",
     "output_type": "stream",
     "text": [
      "Средняя прибыль: 368644.19906 тыс.руб\n",
      "95%-ый доверительный интервал: от 351311.66869 тыс.руб до 385976.72944 тыс.руб\n",
      "Вероятность убытка (%): 9.0\n"
     ]
    }
   ],
   "source": [
    "new_revenue(predict_2, target_valid_2, 200)"
   ]
  },
  {
   "cell_type": "markdown",
   "id": "6cdccd42",
   "metadata": {},
   "source": [
    "**Вывод:** Исходя из построенных гистограмм и полученных данных вероятность окупаемости и получения наибольшей прибыли при разработке 200 скажин во  2-ом регионе."
   ]
  },
  {
   "cell_type": "markdown",
   "id": "5fa1e8bd",
   "metadata": {},
   "source": [
    "## Вывод"
   ]
  },
  {
   "cell_type": "markdown",
   "id": "ab3c8cc0",
   "metadata": {},
   "source": [
    "При первичном ознакомлении с данными геологической разведки в 3-х регионах было обнаружено, что средний запас сырья недостаточен для окупаемости вложений после их разработки. Но это на первый взгляд. Оценив возможноть реализации денежных средст, принято решение о рассмотрении 200-а наиболее перспективных скважин в каждом регионе.\n",
    "\n",
    "В результате исследования выявлено, что наиболее перспективным местом разработки является 2-ой регион.\n",
    "\n",
    "По сравнению с остальными регионами вероятноть убытка составляет менее 2.5%, а средняя прибыль - 541 млн. руб, которая также выше чем у 1-го и 3-го регионов."
   ]
  }
 ],
 "metadata": {
  "kernelspec": {
   "display_name": "Python 3 (ipykernel)",
   "language": "python",
   "name": "python3"
  },
  "language_info": {
   "codemirror_mode": {
    "name": "ipython",
    "version": 3
   },
   "file_extension": ".py",
   "mimetype": "text/x-python",
   "name": "python",
   "nbconvert_exporter": "python",
   "pygments_lexer": "ipython3",
   "version": "3.9.13"
  }
 },
 "nbformat": 4,
 "nbformat_minor": 5
}
